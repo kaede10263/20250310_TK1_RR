{
 "cells": [
  {
   "attachments": {},
   "cell_type": "markdown",
   "id": "2fb6f616",
   "metadata": {},
   "source": [
    "# Human points in average"
   ]
  },
  {
   "cell_type": "code",
   "execution_count": 2,
   "id": "a3bd43ef",
   "metadata": {},
   "outputs": [
    {
     "name": "stdout",
     "output_type": "stream",
     "text": [
      "0224112002_ACC2_Chirp38_200ms_CFAR8_2nd Table_L_2m_Run1 : Frame counts: 9.37\n",
      "0224112002_ACC2_Chirp38_200ms_CFAR8_2nd Table_L_2m_Run2 : Frame counts: 8.79\n",
      "0224112002_ACC2_Chirp38_200ms_CFAR8_2nd Table_L_3m_Run1 : Frame counts: 7.27\n",
      "0224112002_ACC2_Chirp38_200ms_CFAR8_2nd Table_L_3m_Run2 : Frame counts: 8.41\n",
      "0224112002_ACC2_Chirp38_200ms_CFAR8_2nd Table_L_4m_Run1 : Frame counts: 6.56\n",
      "0224112002_ACC2_Chirp38_200ms_CFAR8_2nd Table_L_4m_Run2 : Frame counts: 9.01\n",
      "0224112002_ACC2_Chirp38_200ms_CFAR8_2nd Table_L_5m_Run1 : Frame counts: 7.30\n",
      "0224112002_ACC2_Chirp38_200ms_CFAR8_2nd Table_L_5m_Run2 : Frame counts: 7.20\n",
      "0224112002_ACC2_Chirp38_200ms_CFAR8_2nd Table_L_6m_Run1 : Frame counts: 8.32\n",
      "0224112002_ACC2_Chirp38_200ms_CFAR8_2nd Table_L_6m_Run2 : Frame counts: 5.64\n",
      "0224112002_ACC2_Chirp38_200ms_CFAR8_2nd Table_L_7m_Run1 : Frame counts: 5.57\n",
      "0224112002_ACC2_Chirp38_200ms_CFAR8_2nd Table_L_7m_Run2 : Frame counts: 5.69\n",
      "0224112002_ACC2_Chirp38_200ms_CFAR8_2nd Table_R_2m_Run1 : Frame counts: 9.44\n",
      "0224112002_ACC2_Chirp38_200ms_CFAR8_2nd Table_R_2m_Run2 : Frame counts: 10.02\n",
      "0224112002_ACC2_Chirp38_200ms_CFAR8_2nd Table_R_3m_Run1 : Frame counts: 7.96\n",
      "0224112002_ACC2_Chirp38_200ms_CFAR8_2nd Table_R_3m_Run2 : Frame counts: 8.55\n",
      "0224112002_ACC2_Chirp38_200ms_CFAR8_2nd Table_R_4m_Run1 : Frame counts: 7.02\n",
      "0224112002_ACC2_Chirp38_200ms_CFAR8_2nd Table_R_4m_Run2 : Frame counts: 8.67\n",
      "0224112002_ACC2_Chirp38_200ms_CFAR8_2nd Table_R_5m_Run1 : Frame counts: 6.59\n",
      "0224112002_ACC2_Chirp38_200ms_CFAR8_2nd Table_R_5m_Run2 : Frame counts: 6.04\n",
      "0224112002_ACC2_Chirp38_200ms_CFAR8_2nd Table_R_6m_Run1 : Frame counts: 7.69\n",
      "0224112002_ACC2_Chirp38_200ms_CFAR8_2nd Table_R_6m_Run2 : Frame counts: 7.67\n",
      "0224112002_ACC2_Chirp38_200ms_CFAR8_2nd Table_R_7m_Run1 : Frame counts: 6.45\n",
      "0224112002_ACC2_Chirp38_200ms_CFAR8_2nd Table_R_7m_Run2 : Frame counts: 5.22\n",
      "==================\n",
      "0224112002_ACC2_Chirp38_200ms_CFAR8_2nd Table_R_7m_Run2 : Frame counts: 7.52\n"
     ]
    }
   ],
   "source": [
    "import pandas as pd\n",
    "import glob\n",
    "import os\n",
    "import re\n",
    "import numpy as np\n",
    "import matplotlib.pyplot as plt\n",
    "\n",
    "# path = \"D:/u10962/新增資料夾 (4)/CYCLIC/20241204_S6Qi 50度來回/*.xlsx\"\n",
    "path = \"D:/u10962/新增資料夾 (4)/CYCLIC/20241205_S6Qi_TK1_50度來回 FOV/50度來回/*.xlsx\"\n",
    "# path = \"D:/u10962/新增資料夾 (4)/CYCLIC/20241110_S6QI_LX3_FW test/*.xlsx\"\n",
    "file_paths = glob.glob(path)\n",
    "\n",
    "range_choice = {'2':[2, 4], '3':[2, 5], '4':[2, 7], '5':[3, 10], '6':[5, 10], '7':[5, 10], '8':[7, 11], '10':[7, 15]}\n",
    "\n",
    "total_x_values = []\n",
    "total_frame_counts = pd.Series(dtype=int)\n",
    "frame_countst_total = []\n",
    "\n",
    "for i, file_path in enumerate(file_paths):\n",
    "    try:\n",
    "        df = pd.read_excel(file_path, sheet_name='CloudPoint')\n",
    "        range = re.findall(r'_(\\d)+m_', os.path.basename(file_path))[0]\n",
    "        # df = df[(df['@_Y'] > range_choice[range][0]) & (df['@_Y'] < range_choice[range][1])]  \n",
    "        # frame_counts = df[df['@_Range'] < 7]['@_Frame'].value_counts().sort_index()\n",
    "        frame_counts = df['@_Frame'].value_counts().sort_index()\n",
    "        total_frame_counts = total_frame_counts.add(frame_counts, fill_value=0)\n",
    "        name = os.path.basename(file_path).split(\".\")[1]\n",
    "        frame_countst_total.append(frame_counts.mean())\n",
    "        print(f'{name} : Frame counts: {frame_counts.mean():.2f}')\n",
    "    except:\n",
    "        print(f\" {file_path} error !\")\n",
    "\n",
    "print(\"==================\")\n",
    "print(f'{name} : Frame counts: {np.array(frame_countst_total).mean():.2f}')"
   ]
  },
  {
   "cell_type": "markdown",
   "id": "ce4fe69a",
   "metadata": {},
   "source": [
    "# rain points in average"
   ]
  },
  {
   "cell_type": "code",
   "execution_count": 4,
   "id": "55c07617",
   "metadata": {},
   "outputs": [
    {
     "name": "stdout",
     "output_type": "stream",
     "text": [
      "0324112002_Run1 : Frame counts: 12.99\n",
      "0324112002_Run1 : Frame counts: 14.07\n",
      "==================\n",
      "0324112002_Run1 : Frame counts: 13.53\n"
     ]
    }
   ],
   "source": [
    "import pandas as pd\n",
    "import glob\n",
    "import os\n",
    "import re\n",
    "import numpy as np\n",
    "import matplotlib.pyplot as plt\n",
    "\n",
    "# path = \"D:/u10962/新增資料夾 (4)/CYCLIC/20241204_S6Qi 50度來回/*.xlsx\"\n",
    "# path = \"D:/u10962/新增資料夾 (4)/CYCLIC/20241205_S6Qi_TK1_50度來回 FOV/50度來回/*.xlsx\"\n",
    "path = \"D:/u10962/新增資料夾 (4)/CYCLIC/20241206_S6Qi_Misra_FOV for 1.0324112002/Rain/UART/*.xlsx\"\n",
    "file_paths = glob.glob(path)\n",
    "\n",
    "range_choice = {'2':[2, 4], '3':[2, 5], '4':[2, 7], '5':[3, 10], '6':[5, 10], '7':[5, 10], '8':[7, 11], '10':[7, 15]}\n",
    "\n",
    "total_x_values = []\n",
    "total_frame_counts = pd.Series(dtype=int)\n",
    "frame_countst_total = []\n",
    "\n",
    "for i, file_path in enumerate(file_paths):\n",
    "    df = pd.read_excel(file_path, sheet_name='CloudPoint')\n",
    "    # range = re.findall(r'_(\\d)+m_', os.path.basename(file_path))\n",
    "    # df = df[(df['@_Y'] > range_choice[range][0]) & (df['@_Y'] < range_choice[range][1])]  \n",
    "    # frame_counts = df[df['@_Range'] < 7]['@_Frame'].value_counts().sort_index()\n",
    "    frame_counts = df['@_Frame'].value_counts().sort_index()\n",
    "    total_frame_counts = total_frame_counts.add(frame_counts, fill_value=0)\n",
    "    name = os.path.basename(file_path).split(\".\")[1]\n",
    "    frame_countst_total.append(frame_counts.mean())\n",
    "    print(f'{name} : Frame counts: {frame_counts.mean():.2f}')\n",
    "\n",
    "print(\"==================\")\n",
    "print(f'{name} : Frame counts: {np.array(frame_countst_total).mean():.2f}')"
   ]
  },
  {
   "cell_type": "markdown",
   "id": "260b0863",
   "metadata": {},
   "source": [
    "# tree points in average"
   ]
  },
  {
   "cell_type": "code",
   "execution_count": 9,
   "id": "8bc10683",
   "metadata": {},
   "outputs": [
    {
     "name": "stdout",
     "output_type": "stream",
     "text": [
      "0224111202_L邊_2m_50度_Tree_Run1 : Frame counts: 30.80\n",
      "0224111202_L邊_3m_50度_Tree_Run1 : Frame counts: 26.61\n",
      "0224111202_L邊_4m_50度_Tree_Run1 : Frame counts: 24.58\n",
      "0224111202_L邊_5m_50度_Tree_Run1 : Frame counts: 25.08\n",
      "0224111202_L邊_6m_50度_Tree_Run1 : Frame counts: 22.90\n",
      "0224111202_L邊_7m_50度_Tree_Run1 : Frame counts: 21.95\n",
      "==================\n",
      "0224111202_L邊_7m_50度_Tree_Run1 : Frame counts: 25.32\n"
     ]
    }
   ],
   "source": [
    "import pandas as pd\n",
    "import glob\n",
    "import os\n",
    "import re\n",
    "import numpy as np\n",
    "import matplotlib.pyplot as plt\n",
    "\n",
    "# path = \"D:/u10962/新增資料夾 (4)/CYCLIC/20241204_S6Qi 50度來回/*.xlsx\"\n",
    "# path = \"D:/u10962/新增資料夾 (4)/CYCLIC/20241205_S6Qi_TK1_50度來回 FOV/50度來回/*.xlsx\"\n",
    "path = \"D:/u10962/新增資料夾 (4)/CYCLIC/20241120_S6Qi Tree test/tree/都會公園/*.xlsx\"\n",
    "file_paths = glob.glob(path)\n",
    "\n",
    "range_choice = {'2':[2, 4], '3':[2, 5], '4':[2, 7], '5':[3, 10], '6':[5, 10], '7':[5, 10], '8':[7, 11], '10':[7, 15]}\n",
    "\n",
    "total_x_values = []\n",
    "total_frame_counts = pd.Series(dtype=int)\n",
    "frame_countst_total = []\n",
    "\n",
    "for i, file_path in enumerate(file_paths):\n",
    "    df = pd.read_excel(file_path, sheet_name='CloudPoint')\n",
    "    range = re.findall(r'_(\\d)+m_', os.path.basename(file_path))[0]\n",
    "    # df = df[(df['@_Y'] > range_choice[range][0]) & (df['@_Y'] < range_choice[range][1])]  \n",
    "    # frame_counts = df[df['@_Range'] < 7]['@_Frame'].value_counts().sort_index()\n",
    "    frame_counts = df['@_Frame'].value_counts().sort_index()\n",
    "    total_frame_counts = total_frame_counts.add(frame_counts, fill_value=0)\n",
    "    name = os.path.basename(file_path).split(\".\")[1]\n",
    "    frame_countst_total.append(frame_counts.mean())\n",
    "    print(f'{name} : Frame counts: {frame_counts.mean():.2f}')\n",
    "\n",
    "print(\"==================\")\n",
    "print(f'{name} : Frame counts: {np.array(frame_countst_total).mean():.2f}')"
   ]
  },
  {
   "cell_type": "markdown",
   "id": "af319bf4",
   "metadata": {},
   "source": [
    "# many people and car simultaneously"
   ]
  },
  {
   "cell_type": "code",
   "execution_count": 7,
   "id": "7f8ccb57",
   "metadata": {},
   "outputs": [
    {
     "name": "stdout",
     "output_type": "stream",
     "text": [
      "#FR116_ACC2_Chirp38_UART_200ms_CFAR8_LX3_Indoor_2 Human Wander_CyclicMode 1_Inside The Livina_Run1.rec.xlsx : Frame counts: 14.39\n",
      "#FR116_ACC2_Chirp38_UART_200ms_CFAR8_LX3_Indoor_3 Human Wander_CyclicMode 1_Inside The Livina_Run1.rec.xlsx : Frame counts: 18.99\n",
      "#FR116_ACC2_Chirp38_UART_200ms_CFAR8_LX3_Indoor_4 Human Wander_CyclicMode 1_Inside The Livina_Run1.rec.xlsx : Frame counts: 22.75\n",
      "#FR116_ACC2_Chirp38_UART_200ms_CFAR8_LX3_Indoor_5 Human Wander_CyclicMode 1_Inside The Livina_Run1.rec.xlsx : Frame counts: 24.43\n",
      "#FR116_ACC2_Chirp38_UART_200ms_CFAR8_LX3_Indoor_Car_Horizontal_CyclicMode 1_Inside The Livina_Run1.rec.xlsx : Frame counts: 6.46\n",
      "#FR116_ACC2_Chirp38_UART_200ms_CFAR8_LX3_Indoor_Car_Horizontal_CyclicMode 1_Inside The Livina_Run2.rec.xlsx : Frame counts: 17.31\n",
      "#FR116_ACC2_Chirp38_UART_200ms_CFAR8_LX3_Indoor_Car_Horizontal_CyclicMode 1_Inside The Livina_Run3.rec.xlsx : Frame counts: 8.57\n",
      "FR116_ACC2_Chirp38_UART_200ms_CFAR8_LX3_Indoor_2 Human Wander_CyclicMode 1_Tripod + Windshield_Run1.rec.xlsx : Frame counts: 15.16\n",
      "FR116_ACC2_Chirp38_UART_200ms_CFAR8_LX3_Indoor_3 Human Wander_CyclicMode 1_Tripod + Windshield_Run1.rec.xlsx : Frame counts: 20.35\n",
      "FR116_ACC2_Chirp38_UART_200ms_CFAR8_LX3_Indoor_4 Human Wander_CyclicMode 1_Tripod + Windshield_Run1.rec.xlsx : Frame counts: 24.99\n",
      "FR116_ACC2_Chirp38_UART_200ms_CFAR8_LX3_Indoor_5 Human Wander_CyclicMode 1_Tripod + Windshield_Run1.rec.xlsx : Frame counts: 27.02\n",
      "FR116_ACC2_Chirp38_UART_200ms_CFAR8_LX3_Indoor_Car_Horizontal_CyclicMode 1_Tripod + Windshield_Run1.rec.xlsx : Frame counts: 12.75\n",
      "FR116_ACC2_Chirp38_UART_200ms_CFAR8_LX3_Indoor_Car_Horizontal_CyclicMode 1_Tripod + Windshield_Run2.rec.xlsx : Frame counts: 7.78\n",
      "==================\n",
      "FR116_ACC2_Chirp38_UART_200ms_CFAR8_LX3_Indoor_Car_Horizontal_CyclicMode 1_Tripod + Windshield_Run2.rec.xlsx : Frame counts: 17.00\n"
     ]
    }
   ],
   "source": [
    "import pandas as pd\n",
    "import glob\n",
    "import os\n",
    "import re\n",
    "import numpy as np\n",
    "import matplotlib.pyplot as plt\n",
    "\n",
    "# path = \"D:/u10962/新增資料夾 (4)/CYCLIC/20241204_S6Qi 50度來回/*.xlsx\"\n",
    "path = \"D:/OneDrive/umec/project/20230901-Tmp_Assignment/20250102-treefilter/many_people/*.xlsx\"\n",
    "# path = \"D:/u10962/新增資料夾 (4)/CYCLIC/20241110_S6QI_LX3_FW test/*.xlsx\"\n",
    "file_paths = glob.glob(path)\n",
    "\n",
    "total_x_values = []\n",
    "total_frame_counts = pd.Series(dtype=int)\n",
    "frame_countst_total = []\n",
    "\n",
    "for i, file_path in enumerate(file_paths):\n",
    "    try:\n",
    "        df = pd.read_excel(file_path, sheet_name='CloudPoint')\n",
    "    # df = df[(df['@_Y'] > range_choice[range][0]) & (df['@_Y'] < range_choice[range][1])]  \n",
    "    # frame_counts = df[df['@_Range'] < 7]['@_Frame'].value_counts().sort_index()\n",
    "        frame_counts = df['@_Frame'].value_counts().sort_index()\n",
    "        total_frame_counts = total_frame_counts.add(frame_counts, fill_value=0)\n",
    "        name = os.path.basename(file_path)\n",
    "        frame_countst_total.append(frame_counts.mean())\n",
    "        print(f'{name} : Frame counts: {frame_counts.mean():.2f}')\n",
    "    except:\n",
    "        print(f\" {file_path} error !\")\n",
    "\n",
    "print(\"==================\")\n",
    "print(f'{name} : Frame counts: {np.array(frame_countst_total).mean():.2f}')"
   ]
  },
  {
   "cell_type": "code",
   "execution_count": null,
   "id": "14bf2a0b",
   "metadata": {},
   "outputs": [],
   "source": []
  }
 ],
 "metadata": {
  "kernelspec": {
   "display_name": "Python 3 (ipykernel)",
   "language": "python",
   "name": "python3"
  },
  "language_info": {
   "codemirror_mode": {
    "name": "ipython",
    "version": 3
   },
   "file_extension": ".py",
   "mimetype": "text/x-python",
   "name": "python",
   "nbconvert_exporter": "python",
   "pygments_lexer": "ipython3",
   "version": "3.11.4"
  }
 },
 "nbformat": 4,
 "nbformat_minor": 5
}
